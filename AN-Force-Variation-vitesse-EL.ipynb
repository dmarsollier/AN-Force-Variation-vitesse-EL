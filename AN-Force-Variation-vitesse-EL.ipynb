{
 "cells": [
  {
   "cell_type": "markdown",
   "metadata": {},
   "source": [
    "# Activité numérique : Force et variation du vecteur vitesse\n",
    "### Contenu du fichier Jupyter \n",
    "\n",
    "Ce fichier Jupyter contient trois parties :\n",
    "- la vidéo du mouvement du mobile autoporteur\n",
    "- un premier programme Python permettant de calculer et tracer le vecteur variation de vitesse\n",
    "- un deuxième programme Python permettant de vérifier la relation approchée entre la force et le vecteur variation de vitesse\n",
    "\n",
    "__Rappel :__ Pour exécuter une cellule de code, cliquer sur la cellule et taper au clavier <kbd>SHIFT</kbd>+<kbd>ENTER</kbd> ou <kbd>MAJ</kbd>+<kbd>ENTRÉE</kbd>\n",
    "\n",
    "\n",
    "\n",
    "#### __<font style=\"color:#FF0000;\">Attention :</font>__  \n",
    "<B><font style=\"color:#FF0000;\"> Penser à sauvegarder votre travail régulièrement. Pour cela il faut cliquer sur le bouton représentant une disquette qui se trouve en haut à gauche dans la barre de boutons (Créer  une nouvelle sauvegarde).</font></B>\n",
    "\n",
    "## Vidéo du mouvement du mobile autoporteur\n",
    "Visionner la vidéo de l'enregistrement du mouvement d'un mobile autoporteur en exécutant la cellule de code suivante (taper au clavier <kbd>MAJ</kbd>+<kbd>ENTER</kbd>) et en lancant la lecture. Le mobile se déplace sans frottement sur une table horizontale. Il est soumis à l'action d'un ressort accroché par un fil inextensible à un point fixe. Il est lancé avec une certaine vitesse initiale.  "
   ]
  },
  {
   "cell_type": "code",
   "execution_count": 1,
   "metadata": {
    "scrolled": false
   },
   "outputs": [
    {
     "data": {
      "text/html": [
       "<center>\n",
       "<video width=\"640\" height=\"480\" controls>\n",
       "  <source src=\"Mobile_autoporteur.mp4\" type=\"video/mp4\">\n",
       "</video>\n",
       "</center>\n"
      ],
      "text/plain": [
       "<IPython.core.display.HTML object>"
      ]
     },
     "metadata": {},
     "output_type": "display_data"
    }
   ],
   "source": [
    "%%HTML\n",
    "<center>\n",
    "<video width=\"640\" height=\"480\" controls>\n",
    "  <source src=\"Mobile_autoporteur.mp4\" type=\"video/mp4\">\n",
    "</video>\n",
    "</center>"
   ]
  },
  {
   "cell_type": "markdown",
   "metadata": {},
   "source": [
    "## Premier programme Python : calcul et tracé du vecteur variation de vitesse\n",
    "\n",
    "A partir de la vidéo précédente, on a réalisé le pointage des positions au cours du temps du centre M du mobile autoporteur. Le résultat de ce pointage a été enregistré dans le fichier \"Pointage_mobile.txt\".\n",
    "A partir de ce fichier, la cellule de code suivante va calculer et tracer le vecteur variation de vitesse au cours du mouvemement du mobile. Avant de pouvoir exécuter cette cellule de code Python, vous allez devoir compléter une ligne de code.\n"
   ]
  },
  {
   "cell_type": "code",
   "execution_count": null,
   "metadata": {
    "scrolled": true
   },
   "outputs": [],
   "source": [
    "import matplotlib.pyplot as plt\n",
    "from math import *\n",
    "%matplotlib notebook\n",
    "\n",
    "# Extraction des données du fichier texte de pointage =========================\n",
    "t,x,y=[],[],[] # définition de 3 listes vides pour les 3 variables t, x et y\n",
    "\n",
    "# Ouverture du fichier texte avec la méthode with \n",
    "with open(\"Pointage_mobile.txt\", \"r\") as fichierTexte:       \n",
    "   # extraction des données du fichier ligne par ligne\n",
    "    i=0\n",
    "    for l in fichierTexte:          \n",
    "        if i > 2 : # extraction des données à partir de la 3ème ligne du fichier\n",
    "            # conversion en nombre des données d d'une ligne                        \n",
    "            ti,xi,yi=[float(d) for d in l.replace(\",\",\".\").split(\";\")]            \n",
    "            # ajout des données ti, xi et yi dans les listes t, x et y       \n",
    "            t.append(ti), x.append(xi), y.append(yi)   \n",
    "        i=i+1\n",
    "        \n",
    "# Tracé des points de la trajectoire y=f(x) ======================================                   \n",
    "# Initialisation de la figure, nom de la fenêtre de visualisation\n",
    "plt.figure(1,figsize=(9.5,9.5))\n",
    "plt.title('Vecteur vitesse et vecteur variation de vitesse') # titre \n",
    "plt.xlim(-0.160,0.185)\n",
    "plt.ylim(-0.310,0.005)\n",
    "plt.xlabel('x(en m)')              # légende de l'axe des abscisses\n",
    "plt.ylabel('y(en m)')              # légende de l'axe des abscisses\n",
    "\n",
    "# Représentation des points de coordonnées (x(t),y(t)),rouge'r',forme'o',taille 2\n",
    "plt.plot(x,y,'ro',ms=4) \n",
    "\n",
    "                                            \n",
    "# Calculs des coordonnées des vecteurs vitesse ===================================\n",
    "# Définition de 2 listes pour les variables Vxi, Vyi    \n",
    "Vx,Vy=[0],[0] # Premières valeurs nulles pour l'indice i=0 non utilisé\n",
    "for i in range(1,len(t)-1) :     \n",
    "    # Calcul de la coordonnée Vxi du vecteur vitesse Vi sur l'axe x au point n°i\n",
    "    Vxi=(x[i+1]-x[i-1])/(t[i+1]-t[i-1])            \n",
    "    Vx.append(Vxi) # ajout de la valeur Vxi à la liste Vx   \n",
    "    \n",
    "    # Calcul de la coordonnée Vyi du vecteur vitesse Vi sur l'axe y au point n°i\n",
    "    Vyi=(y[i+1]-y[i-1])/(t[i+1]-t[i-1])            \n",
    "    Vy.append(Vyi) # ajout de la valeur Vyi à la liste Vy    \n",
    "    \n",
    "# Représentation des vecteurs vitesse =============================================\n",
    "for i in range(1,len(t)-1,1) :\n",
    "    # Représentation, au point d'indice i de coordonnées (x[i],y[i]), d'une flèche\n",
    "    # de longueurs Vx[i]/20 sur l'axe x et Vy[i]/20 sur l'axe y    \n",
    "    plt.arrow(x[i], y[i], Vx[i]/20, Vy[i]/20, width=0.0005,   \n",
    "    length_includes_head=\"true\",head_length=0.0025, head_width=0.0015, color='g')  \n",
    "    \n",
    "   \n",
    "# Calculs des coordonnées des vecteurs variation de vitesse ======================\n",
    "# Définition de 2 listes pour les variables deltaVx et deltaVy contenant 0,0  \n",
    "# pour les indices i=0 et i=1 non utilisés\n",
    "deltaVx,deltaVy=[0,0],[0,0] \n",
    "for i in range(2,len(t)-2) :                        \n",
    "    # Calcul des coordonnées deltaVxi du vecteur variation de vitesse \n",
    "    # sur l'axe x au point n°i\n",
    "    deltaVxi=Vx[i+1]-Vx[i-1]\n",
    "    deltaVx.append(deltaVxi) # ajout de la valeur deltaVxi à la liste deltaVx\n",
    "    \n",
    "    # Calcul des coordonnées deltaVyi du vecteur variation de vitesse \n",
    "    # sur l'axe y au point n°i\n",
    "    deltaVyi=           ########### LIGNE A COMPLETER #################\n",
    "    deltaVy.append(deltaVyi) # ajout de la valeur deltaVyi à la liste deltaVy\n",
    "\n",
    "# Représentation des vecteurs variation de vitesse =============================\n",
    "for i in range(2,len(t)-2,1) :        \n",
    "    # Représentation, au point d'indice i de coordonnées (x[i],y[i]), une flèche\n",
    "    # de longueurs deltaVx[i]/20 sur l'axe x et deltaVy[i]/20 sur l'axe y   \n",
    "    plt.arrow(x[i], y[i], deltaVx[i]/20, deltaVy[i]/20,  width=0.0005,   \n",
    "    length_includes_head=\"true\",head_length=0.0025, head_width=0.0015, color='b') \n",
    "    # Représentation d'un segment en pointillé de couleur magenta, d'épaisseur '0.3', \n",
    "    # joignant le point d'attache de l'ensemble fil + ressort au support \n",
    "    # de coordonnées (0,0) au centre du mobile autoporteur de coordonnées(xi,yi)   \n",
    "    plt.plot([0, x[i]], [0, y[i]], 'm--', lw=0.3)       \n",
    "    # Affichage du numéro des points\n",
    "    plt.annotate(str(i), xy=(x[i],y[i]),xytext=(x[i],y[i]))\n",
    "plt.show()"
   ]
  },
  {
   "cell_type": "markdown",
   "metadata": {},
   "source": [
    "## Deuxième programme Python : calcul et comparaison de $F$ et de $m\\frac{\\Delta v}{\\Delta t}$\n",
    "\n",
    "La cellule de code suivante calcule la valeur $F$ de la force  exercée par le ressort ainsi que $m\\frac{\\Delta v}{\\Delta t}$ pour les différentes positions du mobile. Il trace ensuite ces deux grandeurs sur un graphique pour pouvoir les comparer."
   ]
  },
  {
   "cell_type": "code",
   "execution_count": null,
   "metadata": {
    "scrolled": true
   },
   "outputs": [],
   "source": [
    "# Initialisation des données de l'enregistrement vidéo \n",
    "m=0.625      # valeur en kg de la masse du mobile autoporteur\n",
    "k=6.7        # valeur de la constante de raideur du ressort en N.m-1\n",
    "L0=0.183     # valeur de la longueur à vide en m du ressort + ficelle\n",
    "\n",
    "\n",
    "deltaL=[0] \n",
    "F=[0]\n",
    "deltaV=[0]\n",
    "mdVsurdt=[0]\n",
    "for i in range(2,len(t)-2) :   \n",
    "    # Calcul de l'allongement du ressort : deltaL = L-L0 = (x^2+y^2)^0.5 - L0 \n",
    "    deltaLi=max(0,sqrt(x[i]**2+y[i]**2)- L0)   # si l'allongement calculé est de signe négatif\n",
    "    deltaL.append(deltaLi)                    # alors le ressort n'est pas tendu et deltaLi=0 \n",
    "        \n",
    "    # Calcul de la norme F de la force exercée par le ressort : F = k*deltaL\n",
    "    Fi=k*deltaLi \n",
    "    F.append(Fi)     \n",
    "    \n",
    "    # Calcul de la norme deltaVi du vecteur variation de vitesse :  \n",
    "    deltaVi=sqrt(deltaVx[i]**2+deltaVy[i]**2) \n",
    "    deltaV.append(deltaVi)\n",
    "    \n",
    "    # Calcul de m*deltaV/deltat noté (mdVsurdt)\n",
    "    mdVsurdti=m*deltaVi/(t[i+1]-t[i-1]) \n",
    "    mdVsurdt.append(mdVsurdti)\n",
    "    \n",
    "# Représentation de la norme F et de m*deltaV/deltat noté (mdVsurdt) en fontion du temps ========    \n",
    "plt.figure(2,figsize=(7,7))\n",
    "plt.title('Vérification de la relation $F= m \\Delta v / \\Delta t $') # titre \n",
    "plt.xlabel('t(en s)')              # légende de l'axe des abscisses\n",
    "plt.ylabel('$F$ ou $m \\Delta v / \\Delta t$ (en N)')          # légende de l'axe des ordonnées\n",
    "# Représentation de la norme F en fonction du temps\n",
    "plt.plot(t[2:-2],F[1:],'ro',label='$F$ en N')\n",
    "# Représentation de m*deltaV/deltat noté (mdVsurdt) en fontion du temps\n",
    "plt.plot(t[2:-2],mdVsurdt[1:],'b+', label ='$m \\Delta v / \\Delta t$ en $kg.m.s^{-2}$')\n",
    "plt.legend()\n",
    "# Affichage du numéro des points\n",
    "for i in range(2,len(t)-2,1) :        \n",
    "    plt.annotate(str(i), xy=(t[i],F[i-1]),xytext=(t[i],F[i-1]))\n",
    "    \n",
    "plt.grid()\n",
    "plt.show()   "
   ]
  }
 ],
 "metadata": {
  "kernelspec": {
   "display_name": "Python 3",
   "language": "python",
   "name": "python3"
  },
  "language_info": {
   "codemirror_mode": {
    "name": "ipython",
    "version": 3
   },
   "file_extension": ".py",
   "mimetype": "text/x-python",
   "name": "python",
   "nbconvert_exporter": "python",
   "pygments_lexer": "ipython3",
   "version": "3.7.3"
  }
 },
 "nbformat": 4,
 "nbformat_minor": 2
}
